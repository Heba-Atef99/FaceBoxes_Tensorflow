{
 "cells": [
  {
   "cell_type": "code",
   "execution_count": 2,
   "metadata": {},
   "outputs": [],
   "source": [
    "%load_ext autoreload\n",
    "%autoreload 2"
   ]
  },
  {
   "cell_type": "code",
   "execution_count": 5,
   "metadata": {},
   "outputs": [],
   "source": [
    "import os\n",
    "from tqdm import tqdm\n",
    "import pandas as pd\n",
    "from PIL import Image, ImageDraw\n",
    "\n",
    "import json"
   ]
  },
  {
   "cell_type": "code",
   "execution_count": 4,
   "metadata": {},
   "outputs": [],
   "source": [
    "IMAGES_DIR = 'fddb/val/images/'\n",
    "ANNOTATIONS_PATH = 'fddb/val/annotations/'\n",
    "RESULT_DIR = 'fddb/val/original_ann_images/'"
   ]
  },
  {
   "cell_type": "markdown",
   "metadata": {},
   "source": [
    "## Save the image name and the corresponding annotation"
   ]
  },
  {
   "cell_type": "code",
   "execution_count": 17,
   "metadata": {},
   "outputs": [
    {
     "name": "stderr",
     "output_type": "stream",
     "text": [
      "1it [00:27, 27.57s/it]\n"
     ]
    }
   ],
   "source": [
    "original_annotations = pd.DataFrame()\n",
    "\n",
    "for path, subdir, files in tqdm(os.walk(ANNOTATIONS_PATH)):\n",
    "    for name in files:\n",
    "        boxes_of_boxes = []\n",
    "        boxes = []\n",
    "\n",
    "        with open(path + name, 'r') as f:\n",
    "            ann_dict = json.load(f)\n",
    "            dict_boxes = ann_dict['object']\n",
    "            for box in dict_boxes:\n",
    "                box = box['bndbox']\n",
    "                b = [int(box['xmin']), int(box['ymin']), int(box['xmax']), int(box['ymax'])]\n",
    "                boxes.append(b)\n",
    "\n",
    "            boxes_of_boxes.append(boxes)\n",
    "            df = {'image_path': IMAGES_DIR + ann_dict['filename'], 'boxes': boxes_of_boxes} \n",
    "            df = pd.DataFrame(df)\n",
    "            original_annotations =  pd.concat([original_annotations, df], ignore_index = True, axis = 0)\n"
   ]
  },
  {
   "cell_type": "code",
   "execution_count": 18,
   "metadata": {},
   "outputs": [
    {
     "data": {
      "text/html": [
       "<div>\n",
       "<style scoped>\n",
       "    .dataframe tbody tr th:only-of-type {\n",
       "        vertical-align: middle;\n",
       "    }\n",
       "\n",
       "    .dataframe tbody tr th {\n",
       "        vertical-align: top;\n",
       "    }\n",
       "\n",
       "    .dataframe thead th {\n",
       "        text-align: right;\n",
       "    }\n",
       "</style>\n",
       "<table border=\"1\" class=\"dataframe\">\n",
       "  <thead>\n",
       "    <tr style=\"text-align: right;\">\n",
       "      <th></th>\n",
       "      <th>image_path</th>\n",
       "      <th>boxes</th>\n",
       "    </tr>\n",
       "  </thead>\n",
       "  <tbody>\n",
       "    <tr>\n",
       "      <th>0</th>\n",
       "      <td>fddb/val/images/2002-07-19_img_130.jpg</td>\n",
       "      <td>[[118, 38, 179, 133]]</td>\n",
       "    </tr>\n",
       "    <tr>\n",
       "      <th>1</th>\n",
       "      <td>fddb/val/images/2002-07-19_img_135.jpg</td>\n",
       "      <td>[[69, 70, 163, 225], [231, 17, 313, 151]]</td>\n",
       "    </tr>\n",
       "    <tr>\n",
       "      <th>2</th>\n",
       "      <td>fddb/val/images/2002-07-19_img_141.jpg</td>\n",
       "      <td>[[152, 35, 217, 145]]</td>\n",
       "    </tr>\n",
       "    <tr>\n",
       "      <th>3</th>\n",
       "      <td>fddb/val/images/2002-07-19_img_158.jpg</td>\n",
       "      <td>[[124, 22, 237, 182]]</td>\n",
       "    </tr>\n",
       "    <tr>\n",
       "      <th>4</th>\n",
       "      <td>fddb/val/images/2002-07-19_img_160.jpg</td>\n",
       "      <td>[[235, 64, 300, 161]]</td>\n",
       "    </tr>\n",
       "  </tbody>\n",
       "</table>\n",
       "</div>"
      ],
      "text/plain": [
       "                               image_path  \\\n",
       "0  fddb/val/images/2002-07-19_img_130.jpg   \n",
       "1  fddb/val/images/2002-07-19_img_135.jpg   \n",
       "2  fddb/val/images/2002-07-19_img_141.jpg   \n",
       "3  fddb/val/images/2002-07-19_img_158.jpg   \n",
       "4  fddb/val/images/2002-07-19_img_160.jpg   \n",
       "\n",
       "                                       boxes  \n",
       "0                      [[118, 38, 179, 133]]  \n",
       "1  [[69, 70, 163, 225], [231, 17, 313, 151]]  \n",
       "2                      [[152, 35, 217, 145]]  \n",
       "3                      [[124, 22, 237, 182]]  \n",
       "4                      [[235, 64, 300, 161]]  "
      ]
     },
     "execution_count": 18,
     "metadata": {},
     "output_type": "execute_result"
    }
   ],
   "source": [
    "original_annotations.head()"
   ]
  },
  {
   "cell_type": "markdown",
   "metadata": {},
   "source": [
    "Now draw these annotations on the images and save them"
   ]
  },
  {
   "cell_type": "code",
   "execution_count": 21,
   "metadata": {},
   "outputs": [],
   "source": [
    "def draw_boxes_on_image(path, boxes):\n",
    "\n",
    "    image_copy = Image.open(path)\n",
    "    draw = ImageDraw.Draw(image_copy)\n",
    "\n",
    "    for b in boxes:\n",
    "        xmin, ymin, xmax, ymax= b\n",
    "        outline = 'red'\n",
    "        draw.rectangle(\n",
    "            [(xmin, ymin), (xmax, ymax)],\n",
    "             outline=outline\n",
    "        )\n",
    "    return image_copy"
   ]
  },
  {
   "cell_type": "code",
   "execution_count": 23,
   "metadata": {},
   "outputs": [],
   "source": [
    "for index, row in original_annotations.iterrows():\n",
    "    img_path = row['image_path']\n",
    "    annotated_image = draw_boxes_on_image(img_path, row['boxes'])\n",
    "    \n",
    "    output_path = img_path.split(\"/\")[-1]\n",
    "    output_path = RESULT_DIR + output_path\n",
    "    annotated_image.save(output_path)\n"
   ]
  }
 ],
 "metadata": {
  "interpreter": {
   "hash": "1aaaa7c69280c2ed6ce15a0f71ab88c632dfba86640f7913ceb1f007d6d1bcf0"
  },
  "kernelspec": {
   "display_name": "Python 3.9.7 ('try')",
   "language": "python",
   "name": "python3"
  },
  "language_info": {
   "codemirror_mode": {
    "name": "ipython",
    "version": 3
   },
   "file_extension": ".py",
   "mimetype": "text/x-python",
   "name": "python",
   "nbconvert_exporter": "python",
   "pygments_lexer": "ipython3",
   "version": "3.9.7"
  },
  "orig_nbformat": 4
 },
 "nbformat": 4,
 "nbformat_minor": 2
}
