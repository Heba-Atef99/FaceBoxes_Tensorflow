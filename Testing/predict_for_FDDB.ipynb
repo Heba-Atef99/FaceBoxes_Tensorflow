{
 "cells": [
  {
   "cell_type": "code",
   "execution_count": 1,
   "metadata": {},
   "outputs": [],
   "source": [
    "%load_ext autoreload\n",
    "%autoreload 2"
   ]
  },
  {
   "cell_type": "code",
   "execution_count": 67,
   "metadata": {},
   "outputs": [],
   "source": [
    "import os\n",
    "import cv2\n",
    "from tqdm import tqdm\n",
    "import shutil\n",
    "import pandas as pd\n",
    "from PIL import Image, ImageDraw\n",
    "\n",
    "from face_detector import FaceDetector"
   ]
  },
  {
   "cell_type": "code",
   "execution_count": 73,
   "metadata": {},
   "outputs": [],
   "source": [
    "IMAGES_DIR = 'fddb/fddb_images/'\n",
    "ANNOTATIONS_PATH = 'fddb/fddb_folds/'\n",
    "RESULT_DIR = 'fddb/result/'\n",
    "ANNOTATED_IMAGES_DIR = RESULT_DIR + 'ann_images/'\n",
    "MODEL_PATH = 'model.pb'"
   ]
  },
  {
   "cell_type": "markdown",
   "metadata": {},
   "source": [
    "# Collect annotated images"
   ]
  },
  {
   "cell_type": "code",
   "execution_count": 4,
   "metadata": {},
   "outputs": [],
   "source": [
    "annotations = [s for s in os.listdir(ANNOTATIONS_PATH) if s.endswith('ellipseList.txt')]\n",
    "image_lists = [s for s in os.listdir(ANNOTATIONS_PATH) if not s.endswith('ellipseList.txt')]\n",
    "annotations = sorted(annotations)\n",
    "image_lists = sorted(image_lists)"
   ]
  },
  {
   "cell_type": "code",
   "execution_count": 5,
   "metadata": {},
   "outputs": [],
   "source": [
    "# combine all images pathes of FDDB that exist in different files of fddb_folds directory into one list\n",
    "images_to_use = []\n",
    "for n in image_lists:\n",
    "    with open(os.path.join(ANNOTATIONS_PATH, n)) as f:\n",
    "        images_to_use.extend(f.readlines())"
   ]
  },
  {
   "cell_type": "code",
   "execution_count": 7,
   "metadata": {},
   "outputs": [
    {
     "name": "stdout",
     "output_type": "stream",
     "text": [
      "['2002/08/11/big/img_591\\n', '2002/08/26/big/img_265\\n', '2002/07/19/big/img_423\\n', '2002/08/24/big/img_490\\n', '2002/08/31/big/img_17676\\n']\n"
     ]
    }
   ],
   "source": [
    "print(images_to_use[0:5])"
   ]
  },
  {
   "cell_type": "code",
   "execution_count": 9,
   "metadata": {},
   "outputs": [
    {
     "name": "stdout",
     "output_type": "stream",
     "text": [
      "['2002/08/11/big/img_591', '2002/08/26/big/img_265', '2002/07/19/big/img_423', '2002/08/24/big/img_490', '2002/08/31/big/img_17676']\n"
     ]
    }
   ],
   "source": [
    "images_to_use = [s.strip() for s in images_to_use]\n",
    "print(images_to_use[0:5])\n",
    "\n",
    "if not os.path.exists(RESULT_DIR):\n",
    "    os.mkdir(RESULT_DIR)\n",
    "\n",
    "# write all the combined images pathes into ine txt file\n",
    "with open(os.path.join(RESULT_DIR, 'faceList.txt'), 'w') as f:\n",
    "    for p in images_to_use:\n",
    "        f.write(p + '\\n')"
   ]
  },
  {
   "cell_type": "code",
   "execution_count": 10,
   "metadata": {},
   "outputs": [],
   "source": [
    "# combine all ellipses annotations of FDDB that exist in different files of fddb_folds directory into one list\n",
    "ellipses = []\n",
    "for n in annotations:\n",
    "    with open(os.path.join(ANNOTATIONS_PATH, n)) as f:\n",
    "        ellipses.extend(f.readlines())"
   ]
  },
  {
   "cell_type": "code",
   "execution_count": 11,
   "metadata": {},
   "outputs": [],
   "source": [
    "i = 0\n",
    "# write all the combined ellipses annotations into ine txt file\n",
    "with open(os.path.join(RESULT_DIR, 'ellipseList.txt'), 'w') as f:\n",
    "    for p in ellipses:\n",
    "        \n",
    "        # check image order\n",
    "        if 'big/img' in p:\n",
    "            assert images_to_use[i] in p\n",
    "            i += 1\n",
    "\n",
    "        f.write(p)"
   ]
  },
  {
   "cell_type": "markdown",
   "metadata": {},
   "source": [
    "# Predict using trained detector"
   ]
  },
  {
   "cell_type": "code",
   "execution_count": 12,
   "metadata": {},
   "outputs": [],
   "source": [
    "face_detector = FaceDetector(MODEL_PATH, gpu_memory_fraction=0.25, visible_device_list='0')"
   ]
  },
  {
   "cell_type": "code",
   "execution_count": 37,
   "metadata": {},
   "outputs": [
    {
     "name": "stderr",
     "output_type": "stream",
     "text": [
      "100%|██████████| 2845/2845 [02:00<00:00, 23.57it/s]\n"
     ]
    }
   ],
   "source": [
    "predictions = []\n",
    "for n in tqdm(images_to_use):\n",
    "    image_array = cv2.imread(os.path.join(IMAGES_DIR, n) + '.jpg')\n",
    "    image_array = cv2.cvtColor(image_array, cv2.COLOR_BGR2RGB)\n",
    "    # threshold is important to set low\n",
    "    boxes, scores = face_detector(image_array, score_threshold=0.5)\n",
    "    predictions.append((n, boxes, scores))"
   ]
  },
  {
   "cell_type": "code",
   "execution_count": 40,
   "metadata": {},
   "outputs": [],
   "source": [
    "with open(os.path.join(RESULT_DIR, 'detections_2.txt'), 'w') as f:\n",
    "    for n, boxes, scores in predictions:\n",
    "        f.write(n + '\\n')\n",
    "        f.write(str(len(boxes)) + '\\n')\n",
    "        for b, s in zip(boxes, scores):\n",
    "            ymin, xmin, ymax, xmax = b\n",
    "            h, w = int(ymax - ymin), int(xmax - xmin)\n",
    "            f.write('{0} {1} {2} {3} {4:.4f}\\n'.format(int(xmin), int(ymin), w, h, s))"
   ]
  },
  {
   "cell_type": "markdown",
   "metadata": {},
   "source": [
    "# Copy images"
   ]
  },
  {
   "cell_type": "code",
   "execution_count": 15,
   "metadata": {},
   "outputs": [
    {
     "name": "stderr",
     "output_type": "stream",
     "text": [
      "100%|██████████| 2845/2845 [00:07<00:00, 399.13it/s]\n"
     ]
    }
   ],
   "source": [
    "for n in tqdm(images_to_use):\n",
    "    p = os.path.join(RESULT_DIR, 'images', n + '.jpg')\n",
    "    os.makedirs(os.path.dirname(p), exist_ok=True)\n",
    "    shutil.copy(os.path.join(IMAGES_DIR, n) + '.jpg', p)"
   ]
  },
  {
   "cell_type": "markdown",
   "metadata": {},
   "source": [
    "## Visualize the results of boxes on the images"
   ]
  },
  {
   "cell_type": "markdown",
   "metadata": {},
   "source": [
    "save the detection results in a dataframe"
   ]
  },
  {
   "cell_type": "code",
   "execution_count": 77,
   "metadata": {},
   "outputs": [
    {
     "name": "stdout",
     "output_type": "stream",
     "text": [
      "                   image_path  \\\n",
      "0  2002/08/26/big/img_265.jpg   \n",
      "\n",
      "                                               boxes  \n",
      "0  [[61, 39, 148, 155, 0.9794], [299, 55, 388, 18...  \n"
     ]
    }
   ],
   "source": [
    "detections = pd.DataFrame()\n",
    "num_imgs = 0\n",
    "with open(os.path.join(RESULT_DIR, 'detections_2.txt'), 'r') as f:\n",
    "    while True:\n",
    "        line = f.readline()\n",
    "        if not line:\n",
    "            break\n",
    "\n",
    "        image = line.strip() +  '.jpg'\n",
    "\n",
    "        num_imgs += 1\n",
    "        num_boxes = int(f.readline().strip())\n",
    "        \n",
    "        boxes_of_boxes = []\n",
    "        boxes = []\n",
    "        for i in range(num_boxes):\n",
    "            xmin, ymin, w, h, s = f.readline().strip().split(\" \")\n",
    "            box = [int(xmin), int(ymin), int(xmin)+int(w), int(ymin)+int(h), float(s)]\n",
    "            boxes.append(box)\n",
    "            # boxes.extend(box)\n",
    "        boxes_of_boxes.append(boxes)\n",
    "        df = {'image_path': image, 'boxes': boxes_of_boxes} \n",
    "        df = pd.DataFrame(df)\n",
    "        detections =  pd.concat([detections, df], ignore_index = True, axis = 0)"
   ]
  },
  {
   "cell_type": "code",
   "execution_count": 70,
   "metadata": {},
   "outputs": [
    {
     "name": "stdout",
     "output_type": "stream",
     "text": [
      "2845\n",
      "1\n"
     ]
    }
   ],
   "source": [
    "detections.size\n",
    "# print(image)\n",
    "# print(boxes)\n",
    "print(num_imgs)\n",
    "print(len(boxes))"
   ]
  },
  {
   "cell_type": "code",
   "execution_count": 78,
   "metadata": {},
   "outputs": [
    {
     "data": {
      "text/html": [
       "<div>\n",
       "<style scoped>\n",
       "    .dataframe tbody tr th:only-of-type {\n",
       "        vertical-align: middle;\n",
       "    }\n",
       "\n",
       "    .dataframe tbody tr th {\n",
       "        vertical-align: top;\n",
       "    }\n",
       "\n",
       "    .dataframe thead th {\n",
       "        text-align: right;\n",
       "    }\n",
       "</style>\n",
       "<table border=\"1\" class=\"dataframe\">\n",
       "  <thead>\n",
       "    <tr style=\"text-align: right;\">\n",
       "      <th></th>\n",
       "      <th>image_path</th>\n",
       "      <th>boxes</th>\n",
       "    </tr>\n",
       "  </thead>\n",
       "  <tbody>\n",
       "    <tr>\n",
       "      <th>0</th>\n",
       "      <td>2002/08/11/big/img_591.jpg</td>\n",
       "      <td>[[193, 59, 340, 263, 0.9856]]</td>\n",
       "    </tr>\n",
       "    <tr>\n",
       "      <th>1</th>\n",
       "      <td>2002/08/26/big/img_265.jpg</td>\n",
       "      <td>[[61, 39, 148, 155, 0.9794], [299, 55, 388, 18...</td>\n",
       "    </tr>\n",
       "    <tr>\n",
       "      <th>2</th>\n",
       "      <td>2002/07/19/big/img_423.jpg</td>\n",
       "      <td>[[203, 63, 307, 210, 0.9867]]</td>\n",
       "    </tr>\n",
       "    <tr>\n",
       "      <th>3</th>\n",
       "      <td>2002/08/24/big/img_490.jpg</td>\n",
       "      <td>[[105, 37, 176, 132, 0.9286]]</td>\n",
       "    </tr>\n",
       "    <tr>\n",
       "      <th>4</th>\n",
       "      <td>2002/08/31/big/img_17676.jpg</td>\n",
       "      <td>[[62, 40, 158, 169, 0.9741], [2, 13, 60, 101, ...</td>\n",
       "    </tr>\n",
       "  </tbody>\n",
       "</table>\n",
       "</div>"
      ],
      "text/plain": [
       "                     image_path  \\\n",
       "0    2002/08/11/big/img_591.jpg   \n",
       "1    2002/08/26/big/img_265.jpg   \n",
       "2    2002/07/19/big/img_423.jpg   \n",
       "3    2002/08/24/big/img_490.jpg   \n",
       "4  2002/08/31/big/img_17676.jpg   \n",
       "\n",
       "                                               boxes  \n",
       "0                      [[193, 59, 340, 263, 0.9856]]  \n",
       "1  [[61, 39, 148, 155, 0.9794], [299, 55, 388, 18...  \n",
       "2                      [[203, 63, 307, 210, 0.9867]]  \n",
       "3                      [[105, 37, 176, 132, 0.9286]]  \n",
       "4  [[62, 40, 158, 169, 0.9741], [2, 13, 60, 101, ...  "
      ]
     },
     "execution_count": 78,
     "metadata": {},
     "output_type": "execute_result"
    }
   ],
   "source": [
    "detections.head()"
   ]
  },
  {
   "cell_type": "code",
   "execution_count": 120,
   "metadata": {},
   "outputs": [],
   "source": [
    "def draw_boxes_on_image(path, boxes):\n",
    "\n",
    "    image_copy = Image.open(path)\n",
    "    draw = ImageDraw.Draw(image_copy)\n",
    "\n",
    "    for b in boxes:\n",
    "        xmin, ymin, xmax, ymax, s = b\n",
    "        outline = 'red'\n",
    "        draw.rectangle(\n",
    "            [(xmin, ymin), (xmax, ymax)],\n",
    "             outline=outline\n",
    "        )\n",
    "        draw.text((xmin, ymin), text='{:.3f}'.format(s))\n",
    "    return image_copy\n"
   ]
  },
  {
   "cell_type": "code",
   "execution_count": 118,
   "metadata": {},
   "outputs": [
    {
     "data": {
      "text/html": [
       "<div>\n",
       "<style scoped>\n",
       "    .dataframe tbody tr th:only-of-type {\n",
       "        vertical-align: middle;\n",
       "    }\n",
       "\n",
       "    .dataframe tbody tr th {\n",
       "        vertical-align: top;\n",
       "    }\n",
       "\n",
       "    .dataframe thead th {\n",
       "        text-align: right;\n",
       "    }\n",
       "</style>\n",
       "<table border=\"1\" class=\"dataframe\">\n",
       "  <thead>\n",
       "    <tr style=\"text-align: right;\">\n",
       "      <th></th>\n",
       "      <th>image_path</th>\n",
       "      <th>boxes</th>\n",
       "    </tr>\n",
       "  </thead>\n",
       "  <tbody>\n",
       "    <tr>\n",
       "      <th>2840</th>\n",
       "      <td>2002/08/05/big/img_3704.jpg</td>\n",
       "      <td>[[104, 35, 188, 166, 0.9813], [336, 122, 409, ...</td>\n",
       "    </tr>\n",
       "    <tr>\n",
       "      <th>2841</th>\n",
       "      <td>2002/08/07/big/img_1358.jpg</td>\n",
       "      <td>[[86, 70, 242, 290, 0.9555]]</td>\n",
       "    </tr>\n",
       "    <tr>\n",
       "      <th>2842</th>\n",
       "      <td>2002/07/22/big/img_306.jpg</td>\n",
       "      <td>[[125, 48, 202, 151, 0.9493]]</td>\n",
       "    </tr>\n",
       "    <tr>\n",
       "      <th>2843</th>\n",
       "      <td>2002/08/13/big/img_619.jpg</td>\n",
       "      <td>[[102, 121, 168, 210, 0.9613], [273, 119, 346,...</td>\n",
       "    </tr>\n",
       "    <tr>\n",
       "      <th>2844</th>\n",
       "      <td>2002/08/02/big/img_366.jpg</td>\n",
       "      <td>[[38, 43, 264, 352, 0.9928]]</td>\n",
       "    </tr>\n",
       "  </tbody>\n",
       "</table>\n",
       "</div>"
      ],
      "text/plain": [
       "                       image_path  \\\n",
       "2840  2002/08/05/big/img_3704.jpg   \n",
       "2841  2002/08/07/big/img_1358.jpg   \n",
       "2842   2002/07/22/big/img_306.jpg   \n",
       "2843   2002/08/13/big/img_619.jpg   \n",
       "2844   2002/08/02/big/img_366.jpg   \n",
       "\n",
       "                                                  boxes  \n",
       "2840  [[104, 35, 188, 166, 0.9813], [336, 122, 409, ...  \n",
       "2841                       [[86, 70, 242, 290, 0.9555]]  \n",
       "2842                      [[125, 48, 202, 151, 0.9493]]  \n",
       "2843  [[102, 121, 168, 210, 0.9613], [273, 119, 346,...  \n",
       "2844                       [[38, 43, 264, 352, 0.9928]]  "
      ]
     },
     "execution_count": 118,
     "metadata": {},
     "output_type": "execute_result"
    }
   ],
   "source": [
    "detections.tail()"
   ]
  },
  {
   "cell_type": "code",
   "execution_count": 128,
   "metadata": {},
   "outputs": [
    {
     "name": "stdout",
     "output_type": "stream",
     "text": [
      "HH\n"
     ]
    }
   ],
   "source": [
    "\n",
    "for index, row in detections.iterrows():\n",
    "    img_path = row['image_path']\n",
    "    image = IMAGES_DIR + img_path\n",
    "    annotated_image = draw_boxes_on_image(image, row['boxes'])\n",
    "    \n",
    "    output_path = img_path.replace(\"/\", \"_\")\n",
    "    output_path = ANNOTATED_IMAGES_DIR + output_path\n",
    "    annotated_image.save(output_path)"
   ]
  },
  {
   "cell_type": "code",
   "execution_count": 129,
   "metadata": {},
   "outputs": [
    {
     "data": {
      "text/plain": [
       "2846"
      ]
     },
     "execution_count": 129,
     "metadata": {},
     "output_type": "execute_result"
    }
   ],
   "source": [
    "files = os.listdir(ANNOTATED_IMAGES_DIR)\n",
    "len(files)"
   ]
  }
 ],
 "metadata": {
  "kernelspec": {
   "display_name": "Python 3",
   "language": "python",
   "name": "python3"
  },
  "language_info": {
   "codemirror_mode": {
    "name": "ipython",
    "version": 3
   },
   "file_extension": ".py",
   "mimetype": "text/x-python",
   "name": "python",
   "nbconvert_exporter": "python",
   "pygments_lexer": "ipython3",
   "version": "3.9.7"
  }
 },
 "nbformat": 4,
 "nbformat_minor": 1
}
